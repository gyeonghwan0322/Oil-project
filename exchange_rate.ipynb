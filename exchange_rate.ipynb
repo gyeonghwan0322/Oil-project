{
 "cells": [
  {
   "cell_type": "code",
   "id": "initial_id",
   "metadata": {
    "collapsed": true,
    "ExecuteTime": {
     "end_time": "2024-10-04T10:14:21.757520Z",
     "start_time": "2024-10-04T10:14:12.719230Z"
    }
   },
   "source": [
    "import yfinance as yf\n",
    "import pandas as pd\n",
    "from datetime import datetime\n",
    "\n",
    "def fetch_exchange_rates(tickers, start_date, end_date):\n",
    "    \"\"\"\n",
    "    지정된 티커와 날짜 범위에 따라 환율 데이터를 가져옵니다.\n",
    "    \n",
    "    Parameters:\n",
    "        tickers (list): 환율 티커 심볼 리스트\n",
    "        start_date (str): 데이터 시작 날짜 (YYYY-MM-DD)\n",
    "        end_date (str): 데이터 종료 날짜 (YYYY-MM-DD)\n",
    "    \n",
    "    Returns:\n",
    "        pandas.DataFrame: 통합된 환율 데이터프레임\n",
    "    \"\"\"\n",
    "    # yfinance를 사용하여 데이터 다운로드\n",
    "    data = yf.download(tickers, start=start_date, end=end_date)\n",
    "    \n",
    "    # 'Adj Close'만 선택\n",
    "    if 'Adj Close' in data.columns:\n",
    "        adj_close = data['Adj Close']\n",
    "    else:\n",
    "        adj_close = data['Close']\n",
    "    \n",
    "    # 컬럼 이름 정리 (예: RUB=X -> RUB/USD)\n",
    "    adj_close.columns = [ticker.replace('=X', '/USD') for ticker in adj_close.columns]\n",
    "    \n",
    "    return adj_close\n",
    "\n",
    "def main():\n",
    "    # 환율 티커 심볼 리스트\n",
    "    tickers = ['RUB=X', 'NOK=X', 'CAD=X', 'EUR=X']\n",
    "    \n",
    "    # 날짜 범위 설정\n",
    "    start_date = '2022-02-01'\n",
    "    end_date = '2024-06-28'\n",
    "    \n",
    "    # 환율 데이터 가져오기\n",
    "    exchange_rates_df = fetch_exchange_rates(tickers, start_date, end_date)\n",
    "    \n",
    "    # 데이터 확인\n",
    "    print(exchange_rates_df.head())\n",
    "    \n",
    "    # CSV 파일로 저장 (선택 사항)\n",
    "    exchange_rates_df.to_csv('exchange_rates_2022_02_01_to_2024_06_28.csv')\n",
    "    print(\"환율 데이터가 'exchange_rates_2022_02_01_to_2024_06_28.csv' 파일로 저장되었습니다.\")\n",
    "\n",
    "if __name__ == \"__main__\":\n",
    "    main()\n"
   ],
   "outputs": [
    {
     "name": "stderr",
     "output_type": "stream",
     "text": [
      "[*********************100%***********************]  4 of 4 completed"
     ]
    },
    {
     "name": "stdout",
     "output_type": "stream",
     "text": [
      "                           CAD/USD  EUR/USD  NOK/USD    RUB/USD\n",
      "Date                                                           \n",
      "2022-02-01 00:00:00+00:00  1.27174  0.89050  8.90330  77.307800\n",
      "2022-02-02 00:00:00+00:00  1.26896  0.88700  8.82701  76.691597\n",
      "2022-02-03 00:00:00+00:00  1.26864  0.88496  8.81579  76.172997\n",
      "2022-02-04 00:00:00+00:00  1.26785  0.87445  8.71748  76.411499\n",
      "2022-02-07 00:00:00+00:00  1.27453  0.87297  8.78058  75.827797\n",
      "환율 데이터가 'exchange_rates_2022_02_01_to_2024_06_28.csv' 파일로 저장되었습니다.\n"
     ]
    },
    {
     "name": "stderr",
     "output_type": "stream",
     "text": [
      "\n"
     ]
    }
   ],
   "execution_count": 1
  },
  {
   "metadata": {},
   "cell_type": "code",
   "outputs": [],
   "execution_count": null,
   "source": "",
   "id": "277c9ea7378981fd"
  },
  {
   "metadata": {},
   "cell_type": "markdown",
   "source": "",
   "id": "126223e2aeeb0472"
  }
 ],
 "metadata": {
  "kernelspec": {
   "display_name": "Python 3",
   "language": "python",
   "name": "python3"
  },
  "language_info": {
   "codemirror_mode": {
    "name": "ipython",
    "version": 2
   },
   "file_extension": ".py",
   "mimetype": "text/x-python",
   "name": "python",
   "nbconvert_exporter": "python",
   "pygments_lexer": "ipython2",
   "version": "2.7.6"
  }
 },
 "nbformat": 4,
 "nbformat_minor": 5
}
